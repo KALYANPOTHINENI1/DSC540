{
 "cells": [
  {
   "cell_type": "markdown",
   "id": "4a938c46",
   "metadata": {},
   "source": [
    "# <center> Week - 9 & 10 Exercises\n",
    "\n",
    "<center> DSC-540\n",
    "\n",
    "<center> Kalyan Pothineni"
   ]
  },
  {
   "cell_type": "markdown",
   "id": "c587a8f9",
   "metadata": {},
   "source": [
    "### Activy - 11, Retrieving Data Correctly from Databases"
   ]
  },
  {
   "cell_type": "code",
   "execution_count": 36,
   "id": "d56e020e",
   "metadata": {},
   "outputs": [],
   "source": [
    "# Import libraires as needed\n",
    "\n",
    "import sqlite3"
   ]
  },
  {
   "cell_type": "markdown",
   "id": "6a857708",
   "metadata": {},
   "source": [
    "#### Connect to petDB and check for connection"
   ]
  },
  {
   "cell_type": "code",
   "execution_count": 40,
   "id": "fbfb7be2",
   "metadata": {
    "scrolled": true
   },
   "outputs": [
    {
     "name": "stdout",
     "output_type": "stream",
     "text": [
      "Database connection successful!\n"
     ]
    }
   ],
   "source": [
    "# Function to connect and check if DB is connect or failed\n",
    "def check_db_connection(database_path):\n",
    "    try:\n",
    "        cursor = sqlite3.connect(database_path)\n",
    "        cursor.close()\n",
    "        return True\n",
    "    except sqlite3.Error:\n",
    "        return False\n",
    "\n",
    "database_path = \"petsdb\"\n",
    "\n",
    "if check_db_connection(database_path):\n",
    "    print(\"Database connection successful!\")\n",
    "else:\n",
    "    print(\"Database connection failed.\")"
   ]
  },
  {
   "cell_type": "code",
   "execution_count": 43,
   "id": "287cb642",
   "metadata": {},
   "outputs": [
    {
     "name": "stdout",
     "output_type": "stream",
     "text": [
      "Database connection is now open. Make sure to close the connection once you done!\n"
     ]
    }
   ],
   "source": [
    "# Establish a connection to the database\n",
    "try:\n",
    "    connection = sqlite3.connect(database_path)\n",
    "    cursor = connection.cursor()\n",
    "    print(\"Database connection is now open. Make sure to close the connection once you done!\")\n",
    "except:\n",
    "    print(\"Failed to open the database connection.\")\n"
   ]
  },
  {
   "cell_type": "markdown",
   "id": "ee402546",
   "metadata": {},
   "source": [
    "#### Find the different age groups in the psersons table"
   ]
  },
  {
   "cell_type": "code",
   "execution_count": 44,
   "id": "a1d5e6cd",
   "metadata": {
    "scrolled": true
   },
   "outputs": [
    {
     "name": "stdout",
     "output_type": "stream",
     "text": [
      "We have 2 people, aged 5\n",
      "We have 1 people, aged 6\n",
      "We have 1 people, aged 7\n",
      "We have 3 people, aged 8\n",
      "We have 1 people, aged 9\n",
      "We have 2 people, aged 11\n",
      "We have 3 people, aged 12\n",
      "We have 1 people, aged 13\n",
      "We have 4 people, aged 14\n",
      "We have 2 people, aged 16\n",
      "We have 2 people, aged 17\n",
      "We have 3 people, aged 18\n",
      "We have 1 people, aged 19\n",
      "We have 3 people, aged 22\n",
      "We have 2 people, aged 23\n",
      "We have 3 people, aged 24\n",
      "We have 2 people, aged 25\n",
      "We have 1 people, aged 27\n",
      "We have 1 people, aged 30\n",
      "We have 3 people, aged 31\n",
      "We have 1 people, aged 32\n",
      "We have 1 people, aged 33\n",
      "We have 2 people, aged 34\n",
      "We have 3 people, aged 35\n",
      "We have 3 people, aged 36\n",
      "We have 1 people, aged 37\n",
      "We have 2 people, aged 39\n",
      "We have 1 people, aged 40\n",
      "We have 1 people, aged 42\n",
      "We have 2 people, aged 44\n",
      "We have 2 people, aged 48\n",
      "We have 1 people, aged 49\n",
      "We have 1 people, aged 50\n",
      "We have 2 people, aged 51\n",
      "We have 2 people, aged 52\n",
      "We have 2 people, aged 53\n",
      "We have 2 people, aged 54\n",
      "We have 1 people, aged 58\n",
      "We have 1 people, aged 59\n",
      "We have 1 people, aged 60\n",
      "We have 1 people, aged 61\n",
      "We have 2 people, aged 62\n",
      "We have 1 people, aged 63\n",
      "We have 2 people, aged 65\n",
      "We have 2 people, aged 66\n",
      "We have 1 people, aged 67\n",
      "We have 3 people, aged 68\n",
      "We have 1 people, aged 69\n",
      "We have 1 people, aged 70\n",
      "We have 4 people, aged 71\n",
      "We have 1 people, aged 72\n",
      "We have 5 people, aged 73\n",
      "We have 3 people, aged 74\n"
     ]
    }
   ],
   "source": [
    "# Define the SQL query to count people for each age\n",
    "query = \"SELECT age, COUNT(*) \\\n",
    "            FROM persons \\\n",
    "            GROUP BY 1\"\n",
    "\n",
    "# Execute the query\n",
    "cursor.execute(query)\n",
    "\n",
    "# Fetch all the results\n",
    "age_counts = cursor.fetchall()\n",
    "#print(age_counts)\n",
    "\n",
    "# Display the results or an error message\n",
    "if age_counts is not None:\n",
    "    for age, count in age_counts:\n",
    "        print(\"We have {} people, aged {}\".format(count, age))\n",
    "else:\n",
    "    print(\"Failed to fetch age counts from the database.\")"
   ]
  },
  {
   "cell_type": "markdown",
   "id": "a2d7961a",
   "metadata": {},
   "source": [
    "#### Find the age group that has the maximum number of people"
   ]
  },
  {
   "cell_type": "code",
   "execution_count": 45,
   "id": "2d9fdb86",
   "metadata": {},
   "outputs": [
    {
     "name": "stdout",
     "output_type": "stream",
     "text": [
      "The age group with the maximum number of people is: Age 73, Count 5\n"
     ]
    }
   ],
   "source": [
    "# Define the SQL query to count people for each age\n",
    "query = \" SELECT age, COUNT(*) AS CNT \\\n",
    "            FROM persons \\\n",
    "            GROUP BY 1 \\\n",
    "            ORDER BY COUNT(*) DESC \\\n",
    "            LIMIT 1\"\n",
    "\n",
    "# Execute the query\n",
    "cursor.execute(query)\n",
    "\n",
    "# Fetch the result\n",
    "max_age_group = cursor.fetchone()\n",
    "#print(max_age_group)\n",
    "\n",
    "# Display the result or an error message\n",
    "if max_age_group is not None:\n",
    "    age, count = max_age_group\n",
    "    print(\"The age group with the maximum number of people is: Age {}, Count {}\".format(age, count))\n",
    "else:\n",
    "    print(\"Failed to fetch the maximum age group from the database.\")"
   ]
  },
  {
   "cell_type": "markdown",
   "id": "8d82fe0c",
   "metadata": {},
   "source": [
    "#### Find the people who do not have a last name"
   ]
  },
  {
   "cell_type": "code",
   "execution_count": 46,
   "id": "fc9a9e8d",
   "metadata": {},
   "outputs": [
    {
     "name": "stdout",
     "output_type": "stream",
     "text": [
      "Number of people with no full name: 60\n"
     ]
    }
   ],
   "source": [
    "# Define the SQL query to count people with more than one pet\n",
    "query = \"SELECT COUNT(*) FROM persons \\\n",
    "            WHERE (last_name IS NULL OR last_name = '')\"\n",
    "\n",
    "# Execute the query\n",
    "cursor.execute(query)\n",
    "\n",
    "# Fetch the result\n",
    "no_full_name_count = cursor.fetchone()[0]\n",
    "# print(no_full_name_count )\n",
    "\n",
    "# Display the result or an error message\n",
    "if no_full_name_count is not None:\n",
    "    print(\"Number of people with no full name: {}\".format(no_full_name_count))\n",
    "else:\n",
    "    print(\"Failed to fetch the count from the database.\")"
   ]
  },
  {
   "cell_type": "markdown",
   "id": "ddcbc186",
   "metadata": {},
   "source": [
    "#### Find how many people have more than one pet"
   ]
  },
  {
   "cell_type": "code",
   "execution_count": 47,
   "id": "c76b33db",
   "metadata": {},
   "outputs": [
    {
     "name": "stdout",
     "output_type": "stream",
     "text": [
      "Number of people with more than one pet: 43\n"
     ]
    }
   ],
   "source": [
    "# Define the SQL query to count people with no last name\n",
    "query = \" SELECT COUNT(*) FROM \\\n",
    "            ( \\\n",
    "                SELECT COUNT(owner_id) \\\n",
    "                FROM pets \\\n",
    "                GROUP BY owner_id \\\n",
    "                HAVING count(owner_id) >1 \\\n",
    "            ) a\"\n",
    "\n",
    "# Execute the query\n",
    "cursor.execute(query)\n",
    "\n",
    "# Fetch the result\n",
    "multiple_pets_count = cursor.fetchone()[0]\n",
    "#print(treated_pets_count)\n",
    "\n",
    "# Display the result or an error message\n",
    "if multiple_pets_count is not None:\n",
    "    print(\"Number of people with more than one pet: {}\".format(multiple_pets_count))\n",
    "else:\n",
    "    print(\"Failed to fetch the count from the database.\")"
   ]
  },
  {
   "cell_type": "markdown",
   "id": "e7511011",
   "metadata": {},
   "source": [
    "#### Find out how many pets have received treatment"
   ]
  },
  {
   "cell_type": "code",
   "execution_count": 48,
   "id": "85bfbe44",
   "metadata": {},
   "outputs": [
    {
     "name": "stdout",
     "output_type": "stream",
     "text": [
      "Number of pets that have received treatment: 36\n"
     ]
    }
   ],
   "source": [
    "# Define the SQL query to count people with no last name\n",
    "query = \"SELECT COUNT(*) \\\n",
    "            FROM pets \\\n",
    "            WHERE treatment_done=1\"\n",
    "\n",
    "# Execute the query\n",
    "cursor.execute(query)\n",
    "\n",
    "# Fetch the result\n",
    "treatment_done = cursor.fetchone()[0]\n",
    "#print(treatment_done)\n",
    "\n",
    "# Display the result or an error message\n",
    "if treatment_done is not None:\n",
    "    print(\"Number of pets that have received treatment: {}\".format(treatment_done))\n",
    "else:\n",
    "    print(\"Failed to fetch the count from the database.\")"
   ]
  },
  {
   "cell_type": "markdown",
   "id": "7103faea",
   "metadata": {},
   "source": [
    "#### Find out how many pets have received treatment and the type of pet is known"
   ]
  },
  {
   "cell_type": "code",
   "execution_count": 49,
   "id": "cdce1f52",
   "metadata": {},
   "outputs": [
    {
     "name": "stdout",
     "output_type": "stream",
     "text": [
      "Number of pets that have received treatment and we know the type: 16\n"
     ]
    }
   ],
   "source": [
    "# Define the SQL query to count people with no last name\n",
    "query = \"SELECT COUNT(*) \\\n",
    "            FROM pets \\\n",
    "            WHERE treatment_done=1 AND pet_type IS NOT null\"\n",
    "\n",
    "# Execute the query\n",
    "cursor.execute(query)\n",
    "\n",
    "# Fetch the result\n",
    "treatment_done_type = cursor.fetchone()[0]\n",
    "#print(treatment_done)\n",
    "\n",
    "# Display the result or an error message\n",
    "if treatment_done_type is not None:\n",
    "    print(\"Number of pets that have received treatment and we know the type: {}\".format(treatment_done_type))\n",
    "else:\n",
    "    print(\"Failed to fetch the count from the database.\")"
   ]
  },
  {
   "cell_type": "markdown",
   "id": "04b77129",
   "metadata": {},
   "source": [
    "#### Find out how many pets are from east port"
   ]
  },
  {
   "cell_type": "code",
   "execution_count": 50,
   "id": "4c78a0f6",
   "metadata": {},
   "outputs": [
    {
     "name": "stdout",
     "output_type": "stream",
     "text": [
      "Number of pets from east port: 49\n"
     ]
    }
   ],
   "source": [
    "# Define the SQL query to count people with no last name\n",
    "query = \"SELECT COUNT(*) \\\n",
    "            FROM pets \\\n",
    "            JOIN persons \\\n",
    "                ON pets.owner_id = persons.id \\\n",
    "            WHERE persons.city='east port'\"\n",
    "\n",
    "# Execute the query\n",
    "cursor.execute(query)\n",
    "\n",
    "# Fetch the result\n",
    "pets_from_east_port = cursor.fetchone()[0]\n",
    "#print(treatment_done)\n",
    "\n",
    "# Display the result or an error message\n",
    "if pets_from_east_port is not None:\n",
    "    print(\"Number of pets from east port: {}\".format(pets_from_east_port))\n",
    "else:\n",
    "    print(\"Failed to fetch the count from the database.\")"
   ]
  },
  {
   "cell_type": "markdown",
   "id": "097a460c",
   "metadata": {},
   "source": [
    "#### Find out how many pets are from east port and received treatment"
   ]
  },
  {
   "cell_type": "code",
   "execution_count": 51,
   "id": "060fe7da",
   "metadata": {},
   "outputs": [
    {
     "name": "stdout",
     "output_type": "stream",
     "text": [
      "Number of pets from east port and received treatment: 11\n"
     ]
    }
   ],
   "source": [
    "# Define the SQL query to count people with no last name\n",
    "query = \"SELECT COUNT(*) \\\n",
    "            FROM pets \\\n",
    "            JOIN persons \\\n",
    "                ON pets.owner_id = persons.id \\\n",
    "            WHERE persons.city='east port'\\\n",
    "            AND pets.treatment_done=1\"\n",
    "\n",
    "# Execute the query\n",
    "cursor.execute(query)\n",
    "\n",
    "# Fetch the result\n",
    "pets_from_east_port_treatment = cursor.fetchone()[0]\n",
    "#print(treatment_done)\n",
    "\n",
    "# Display the result or an error message\n",
    "if pets_from_east_port_treatment is not None:\n",
    "    print(\"Number of pets from east port and received treatment: {}\".format(pets_from_east_port_treatment))\n",
    "else:\n",
    "    print(\"Failed to fetch the count from the database.\")"
   ]
  },
  {
   "cell_type": "code",
   "execution_count": 52,
   "id": "2c895847",
   "metadata": {},
   "outputs": [
    {
     "name": "stdout",
     "output_type": "stream",
     "text": [
      "Database connection closed.\n"
     ]
    }
   ],
   "source": [
    "try:\n",
    "    connection.close()\n",
    "    print(\"Database connection closed.\")\n",
    "except:\n",
    "    print(\"Failed to close the database connection.\")"
   ]
  },
  {
   "cell_type": "markdown",
   "id": "94ddc8c1",
   "metadata": {},
   "source": [
    "- Above implemented code provides a comprehensive approach to checking and establishing a connection to a SQLite database. The check_db_connection function effectively determines the status of the database connection, offering a clear indication of success or failure. The subsequent code blocks demonstrates the process of connecting to the database and creating a cursor, with appropriate messages printed to ensure the user is informed of the connection status. It is important to ensure that the database connection is properly closed after its use to maintain efficient resource management and to reduce the cost."
   ]
  }
 ],
 "metadata": {
  "kernelspec": {
   "display_name": "Python 3 (ipykernel)",
   "language": "python",
   "name": "python3"
  },
  "language_info": {
   "codemirror_mode": {
    "name": "ipython",
    "version": 3
   },
   "file_extension": ".py",
   "mimetype": "text/x-python",
   "name": "python",
   "nbconvert_exporter": "python",
   "pygments_lexer": "ipython3",
   "version": "3.10.9"
  }
 },
 "nbformat": 4,
 "nbformat_minor": 5
}
